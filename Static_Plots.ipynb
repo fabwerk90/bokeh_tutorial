{
 "cells": [
  {
   "cell_type": "markdown",
   "metadata": {},
   "source": [
    "# Contents"
   ]
  },
  {
   "cell_type": "markdown",
   "metadata": {},
   "source": [
    "1. Table of contents\n",
    "2. Libraries\n",
    "3. Creating a canvas\n",
    "4. Basic examples - random data, iris dataset, wirecard stock value\n",
    "5. Layout options\n",
    "6. Advanced customization options"
   ]
  },
  {
   "cell_type": "markdown",
   "metadata": {},
   "source": [
    "# Essential libraries"
   ]
  },
  {
   "cell_type": "code",
   "execution_count": null,
   "metadata": {
    "ExecuteTime": {
     "end_time": "2020-07-29T14:14:23.914154Z",
     "start_time": "2020-07-29T14:14:22.965395Z"
    }
   },
   "outputs": [],
   "source": [
    "import pandas as pd\n",
    "import numpy as np\n",
    "\n",
    "from bokeh.io import show, output_notebook, reset_output\n",
    "from bokeh.plotting import figure"
   ]
  },
  {
   "cell_type": "markdown",
   "metadata": {},
   "source": [
    "##### per default, bokeh output is shown as html output in your browser\n",
    "##### in our case output should be shown in notebook"
   ]
  },
  {
   "cell_type": "code",
   "execution_count": null,
   "metadata": {
    "ExecuteTime": {
     "end_time": "2020-07-29T14:14:24.702569Z",
     "start_time": "2020-07-29T14:14:24.694566Z"
    }
   },
   "outputs": [],
   "source": [
    "output_notebook()\n",
    "\n",
    "### to switch back to html output, run following line\n",
    "# reset_output()"
   ]
  },
  {
   "cell_type": "markdown",
   "metadata": {},
   "source": [
    "# Creating the canvas"
   ]
  },
  {
   "cell_type": "markdown",
   "metadata": {},
   "source": [
    "## Empty canvas"
   ]
  },
  {
   "cell_type": "code",
   "execution_count": null,
   "metadata": {
    "ExecuteTime": {
     "end_time": "2020-07-29T14:14:26.720697Z",
     "start_time": "2020-07-29T14:14:26.692773Z"
    }
   },
   "outputs": [],
   "source": [
    "empty1 = figure()\n",
    "\n",
    "show(empty1)"
   ]
  },
  {
   "cell_type": "markdown",
   "metadata": {},
   "source": [
    "## Customization options"
   ]
  },
  {
   "cell_type": "code",
   "execution_count": null,
   "metadata": {
    "ExecuteTime": {
     "end_time": "2020-07-29T14:14:29.637710Z",
     "start_time": "2020-07-29T14:14:29.612801Z"
    }
   },
   "outputs": [],
   "source": [
    "empty2 = figure(\n",
    "    \n",
    "    title=\"Bokeh empty canvas\",\n",
    "    \n",
    "    x_axis_label=\"x-axis empty canvas\",\n",
    "    \n",
    "    y_axis_label=\"y-axis empty canvas\",\n",
    "    \n",
    "    plot_width=400, \n",
    "    plot_height=300,  \n",
    ")\n",
    "\n",
    "show(empty2)"
   ]
  },
  {
   "cell_type": "markdown",
   "metadata": {},
   "source": [
    "# Basic examples"
   ]
  },
  {
   "cell_type": "markdown",
   "metadata": {},
   "source": [
    "## Example I --- Random data"
   ]
  },
  {
   "cell_type": "code",
   "execution_count": null,
   "metadata": {
    "ExecuteTime": {
     "end_time": "2020-07-29T14:17:26.598078Z",
     "start_time": "2020-07-29T14:17:26.563145Z"
    }
   },
   "outputs": [],
   "source": [
    "### creating a canvas to draw on\n",
    "plot1 = figure(title=\"Random data\", x_axis_label=\"x-axis\", y_axis_label=\"y-axis\",\n",
    "               plot_width=500, plot_height=500)\n",
    "\n",
    "### manually generating random data\n",
    "x_values = [5, 2, 4, 1, 8, 9, 6.4, 3.8, 4.2]\n",
    "y_values = [2, 6, 1, 9, 7, 3, 2.9, 7.1, 5.7]\n",
    "\n",
    "### drawing circles on plot1\n",
    "plot1.circle(\n",
    "    \n",
    "    x = x_values,\n",
    "    y = y_values,\n",
    "    \n",
    ")\n",
    "\n",
    "show(plot1)"
   ]
  },
  {
   "cell_type": "markdown",
   "metadata": {},
   "source": [
    "##### you are not limited to using circles, there are several other options available (such as crosses or squares)\n",
    "all available forms of drawings can be found here (https://docs.bokeh.org/en/latest/docs/reference/plotting.html)\n"
   ]
  },
  {
   "cell_type": "markdown",
   "metadata": {},
   "source": [
    "## Example II --- Iris flower dataset\n",
    "##### Bokeh can easily handle pandas dataframes!"
   ]
  },
  {
   "cell_type": "code",
   "execution_count": null,
   "metadata": {
    "ExecuteTime": {
     "end_time": "2020-07-29T14:26:50.863627Z",
     "start_time": "2020-07-29T14:26:50.859638Z"
    }
   },
   "outputs": [],
   "source": [
    "### directly import iris data set from bokeh\n",
    "from bokeh.sampledata.iris import flowers as iris_df"
   ]
  },
  {
   "cell_type": "code",
   "execution_count": null,
   "metadata": {
    "ExecuteTime": {
     "end_time": "2020-07-29T14:20:02.101645Z",
     "start_time": "2020-07-29T14:20:02.066739Z"
    }
   },
   "outputs": [],
   "source": [
    "### creating the canvas\n",
    "plot2 = figure(title=\"Iris data\", x_axis_label=\"Sepal length\", y_axis_label=\"Sepal width\",\n",
    "               plot_width=500, plot_height=500)\n",
    "\n",
    "### drawing on the canvas\n",
    "plot2.circle(\n",
    "    \n",
    "    iris_df[\"sepal_length\"], \n",
    "    iris_df[\"sepal_width\"], \n",
    "    #color=\"green\", \n",
    "    #size=10\n",
    ")\n",
    "\n",
    "show(plot2)"
   ]
  },
  {
   "cell_type": "markdown",
   "metadata": {},
   "source": [
    "## Example III --- Wirecard stock value "
   ]
  },
  {
   "cell_type": "markdown",
   "metadata": {},
   "source": [
    "We'll use Wirecard DAX stock data from Yahoo (https://de.finance.yahoo.com/quote/WDI.DE/history?p=WDI.DE)"
   ]
  },
  {
   "cell_type": "code",
   "execution_count": null,
   "metadata": {
    "ExecuteTime": {
     "end_time": "2020-07-29T14:21:36.006321Z",
     "start_time": "2020-07-29T14:21:35.997345Z"
    }
   },
   "outputs": [],
   "source": [
    "### loading data, we only need the date and the corresponding closing stock value\n",
    "wirecard_df = pd.read_csv(\"data/wirecard_dax_monthly.csv\", usecols=[\"Date\", \"Close\"])\n",
    "\n",
    "### converting the date column to a datetime variable format\n",
    "from datetime import datetime\n",
    "wirecard_df[\"Date\"] = pd.to_datetime(wirecard_df[\"Date\"])"
   ]
  },
  {
   "cell_type": "markdown",
   "metadata": {},
   "source": [
    "##### we can draw multiple items on a canvas!"
   ]
  },
  {
   "cell_type": "code",
   "execution_count": null,
   "metadata": {
    "ExecuteTime": {
     "end_time": "2020-07-29T14:22:08.970766Z",
     "start_time": "2020-07-29T14:22:08.912434Z"
    }
   },
   "outputs": [],
   "source": [
    "### creating the canvas and defining our x-axis as datetime-format\n",
    "plot3 = figure(title=\"Wirecard stock value\", x_axis_type=\"datetime\", x_axis_label =\"Date\", \n",
    "               y_axis_label =\"Closing Value in €\")\n",
    "\n",
    "### drawing lines between each data point\n",
    "plot3.line(\n",
    "    wirecard_df[\"Date\"], \n",
    "    wirecard_df[\"Close\"], \n",
    "    line_width=5)\n",
    "\n",
    "### drawing a circle at each data point\n",
    "plot3.circle(\n",
    "    wirecard_df[\"Date\"], \n",
    "    wirecard_df[\"Close\"],\n",
    "    size=10,\n",
    "    fill_color=\"white\" \n",
    "    )\n",
    "\n",
    "show(plot3)"
   ]
  },
  {
   "cell_type": "markdown",
   "metadata": {},
   "source": [
    "# Different layout options"
   ]
  },
  {
   "cell_type": "markdown",
   "metadata": {},
   "source": [
    "Bokeh layouts can be seen as a grid visualization, consisting of rows and columns "
   ]
  },
  {
   "cell_type": "code",
   "execution_count": null,
   "metadata": {
    "ExecuteTime": {
     "end_time": "2020-07-29T00:16:06.563296Z",
     "start_time": "2020-07-29T00:16:06.559301Z"
    }
   },
   "outputs": [],
   "source": [
    "from bokeh.layouts import row, column"
   ]
  },
  {
   "cell_type": "markdown",
   "metadata": {},
   "source": [
    "## Display plots in rows (next to each other)"
   ]
  },
  {
   "cell_type": "code",
   "execution_count": null,
   "metadata": {
    "ExecuteTime": {
     "end_time": "2020-07-29T00:16:06.735345Z",
     "start_time": "2020-07-29T00:16:06.565285Z"
    }
   },
   "outputs": [],
   "source": [
    "### here we want to have two plots in a row\n",
    "\n",
    "layout1 = row(plot1, plot2)\n",
    "show(layout1)"
   ]
  },
  {
   "cell_type": "markdown",
   "metadata": {},
   "source": [
    "## Display plots in columns (one above the other)"
   ]
  },
  {
   "cell_type": "code",
   "execution_count": null,
   "metadata": {
    "ExecuteTime": {
     "end_time": "2020-07-29T00:16:06.880954Z",
     "start_time": "2020-07-29T00:16:06.737335Z"
    }
   },
   "outputs": [],
   "source": [
    "### here we want to have two plots in a column\n",
    "\n",
    "layout2 = column(plot1, plot2)\n",
    "show(layout2)"
   ]
  },
  {
   "cell_type": "markdown",
   "metadata": {},
   "source": [
    "## Combine columns and rows"
   ]
  },
  {
   "cell_type": "markdown",
   "metadata": {},
   "source": [
    "here we want to have our plot III below a row of plot I and II (like in our first layout)\n",
    "##### as you can see, we can also incorporate an existing layout into a new one!"
   ]
  },
  {
   "cell_type": "code",
   "execution_count": null,
   "metadata": {
    "ExecuteTime": {
     "end_time": "2020-07-29T00:16:08.111366Z",
     "start_time": "2020-07-29T00:16:06.882948Z"
    },
    "scrolled": false
   },
   "outputs": [],
   "source": [
    "### layout consists of a column of plot 3 and our layout 1 below it\n",
    "\n",
    "layout3 = column(plot3, layout1)\n",
    "show(layout3)"
   ]
  },
  {
   "cell_type": "markdown",
   "metadata": {},
   "source": [
    "## Panel view\n",
    "Panels allow us to switch between different views, all within one layout"
   ]
  },
  {
   "cell_type": "code",
   "execution_count": null,
   "metadata": {
    "ExecuteTime": {
     "end_time": "2020-07-29T00:16:09.208397Z",
     "start_time": "2020-07-29T00:16:08.114331Z"
    }
   },
   "outputs": [],
   "source": [
    "from bokeh.models.widgets import Panel, Tabs\n",
    "\n",
    "### define the different viewing options, i.e. the tabs above the plot\n",
    "panel_1 = Panel(child=plot1, title='Plot I')\n",
    "\n",
    "panel_2 = Panel(child=plot2, title='Plot II')\n",
    "\n",
    "panel_3 = Panel(child=plot3, title='Plot III')\n",
    "\n",
    "### combine all viewing options into one layout\n",
    "panel_layout = Tabs(tabs=[panel_1, panel_2, panel_3])\n",
    "\n",
    "show(panel_layout)"
   ]
  },
  {
   "cell_type": "markdown",
   "metadata": {},
   "source": [
    "# Advanced customization options"
   ]
  },
  {
   "cell_type": "markdown",
   "metadata": {},
   "source": [
    "there are a lot of customization options! in this section I just want to give you some inspiration and an idea of what is possible"
   ]
  },
  {
   "cell_type": "markdown",
   "metadata": {},
   "source": [
    "We'll use data from the World Happiness Index to illustrate some customization options (https://www.kaggle.com/unsdsn/world-happiness/data)"
   ]
  },
  {
   "cell_type": "code",
   "execution_count": null,
   "metadata": {
    "ExecuteTime": {
     "end_time": "2020-07-29T00:16:09.218350Z",
     "start_time": "2020-07-29T00:16:09.210372Z"
    }
   },
   "outputs": [],
   "source": [
    "happiness_df = pd.read_csv(\"data/world_happiness_index_2019.csv\", index_col=0)"
   ]
  },
  {
   "cell_type": "code",
   "execution_count": null,
   "metadata": {
    "ExecuteTime": {
     "end_time": "2020-07-29T00:16:09.245278Z",
     "start_time": "2020-07-29T00:16:09.220345Z"
    }
   },
   "outputs": [],
   "source": [
    "happiness_df.head(10)"
   ]
  },
  {
   "cell_type": "markdown",
   "metadata": {},
   "source": [
    "##### in order to process data for advanced customization in bokeh, we have to create a so-called \"column data source\""
   ]
  },
  {
   "cell_type": "code",
   "execution_count": null,
   "metadata": {
    "ExecuteTime": {
     "end_time": "2020-07-29T00:16:09.255252Z",
     "start_time": "2020-07-29T00:16:09.247273Z"
    }
   },
   "outputs": [],
   "source": [
    "from bokeh.plotting import ColumnDataSource\n",
    "\n",
    "datasource = ColumnDataSource(data={\n",
    "    \"rank\" : happiness_df[\"Overall rank\"],\n",
    "    \"country\" : happiness_df[\"Country\"],\n",
    "    \"score\" : happiness_df[\"Score\"],\n",
    "    \"gdp\" : happiness_df[\"GDP per capita\"],\n",
    "    \"continent\" : happiness_df[\"Continent\"]\n",
    "})"
   ]
  },
  {
   "cell_type": "markdown",
   "metadata": {},
   "source": [
    "##### from now on, we can refer to the self-defined names on the left (\"rank\", \"country\", and so on)\n",
    "##### --> be aware, that you have to include a reference to the source-object (\"datasource\"), when you want to call the data with your give names"
   ]
  },
  {
   "cell_type": "markdown",
   "metadata": {},
   "source": [
    "## Axis customization"
   ]
  },
  {
   "cell_type": "code",
   "execution_count": null,
   "metadata": {
    "ExecuteTime": {
     "end_time": "2020-07-29T00:16:09.407776Z",
     "start_time": "2020-07-29T00:16:09.256249Z"
    }
   },
   "outputs": [],
   "source": [
    "### create the canvas\n",
    "\n",
    "plot4a= figure(title=\"World Happiness Index\", x_axis_label =\"Score\", y_axis_label =\"GDP per capita\",\n",
    "               plot_width=500, plot_height=500)\n",
    "\n",
    "### drawing a circle at each data point\n",
    "\n",
    "plot4a.circle(\n",
    "    \"score\", \n",
    "    \"gdp\",\n",
    "    size=10, \n",
    "### call the data with our defined names from our above created source object \"datasource\"\n",
    "    source=datasource\n",
    "    )\n",
    "\n",
    "\n",
    "############# customizing axes\n",
    "\n",
    "### axis-ticks\n",
    "\n",
    "from bokeh.models import NumeralTickFormatter\n",
    "\n",
    "plot4a.yaxis.formatter=NumeralTickFormatter(format=\"0.0\")\n",
    "plot4a.xaxis.formatter=NumeralTickFormatter(format=\"0.00\")\n",
    "\n",
    "### font customization\n",
    "plot4a.xaxis.axis_label_text_font_size = \"12pt\"\n",
    "plot4a.xaxis.major_label_text_font_size = \"8pt\"\n",
    "plot4a.xaxis.axis_label_text_font = \"arial\"\n",
    "plot4a.xaxis.axis_label_text_color = \"red\"\n",
    "plot4a.xaxis.axis_label_text_font_style = 'bold'\n",
    "\n",
    "plot4a.yaxis.axis_label_text_font_size = \"16pt\"\n",
    "plot4a.yaxis.major_label_text_font_size = \"10pt\"\n",
    "plot4a.yaxis.axis_label_text_font = \"times\"\n",
    "plot4a.yaxis.axis_label_text_color = \"blue\"\n",
    "\n",
    "show(plot4a)"
   ]
  },
  {
   "cell_type": "markdown",
   "metadata": {},
   "source": [
    "## Bokeh toolbox"
   ]
  },
  {
   "cell_type": "markdown",
   "metadata": {},
   "source": [
    "you can find all available tools in the bokeh docs (https://docs.bokeh.org/en/latest/docs/user_guide/tools.html)"
   ]
  },
  {
   "cell_type": "markdown",
   "metadata": {},
   "source": [
    "### Different views and zooming"
   ]
  },
  {
   "cell_type": "code",
   "execution_count": null,
   "metadata": {
    "ExecuteTime": {
     "end_time": "2020-07-29T00:16:09.578304Z",
     "start_time": "2020-07-29T00:16:09.409755Z"
    }
   },
   "outputs": [],
   "source": [
    "### define, which tools we want to add to our plot\n",
    "toolbox = [\"pan, wheel_zoom, box_zoom, reset, save\"]\n",
    "\n",
    "### create canvas\n",
    "plot4b= figure(title=\"World Happiness Index\", x_axis_label =\"Score\", y_axis_label =\"GDP per capita\",\n",
    "               plot_width=500, plot_height=500, \n",
    "               \n",
    "               tools=toolbox, \n",
    "               toolbar_location=\"right\")\n",
    "\n",
    "### drawing a circle at each data point\n",
    "\n",
    "plot4b.circle(\"score\", \"gdp\", size=10, source=datasource)\n",
    "\n",
    "show(plot4b)"
   ]
  },
  {
   "cell_type": "markdown",
   "metadata": {},
   "source": [
    "### Tooltips and selecting data"
   ]
  },
  {
   "cell_type": "code",
   "execution_count": null,
   "metadata": {
    "ExecuteTime": {
     "end_time": "2020-07-29T00:16:09.779765Z",
     "start_time": "2020-07-29T00:16:09.581296Z"
    }
   },
   "outputs": [],
   "source": [
    "### define, which tools we want to add to our plot\n",
    "toolbox = [\"box_select, lasso_select, crosshair, reset\"]\n",
    "\n",
    "### create canvas\n",
    "plot4c = figure(title=\"World Happiness Index\", x_axis_label =\"Score\", y_axis_label =\"GDP per capita\",\n",
    "                plot_width=500, plot_height=500, tools=toolbox, toolbar_location=\"right\")\n",
    "\n",
    "### add a hovertool with defined tooltips\n",
    "from bokeh.models import HoverTool\n",
    "\n",
    "tooltips = [\n",
    "            (\"Country\", \"@country\"),\n",
    "            (\"Rank\", \"@rank\"),\n",
    "            (\"Score\", \"@score{0.00}\"),\n",
    "            (\"GDP\", \"@gdp{0.00}\")\n",
    "           ]\n",
    "\n",
    "plot4c.add_tools(HoverTool(tooltips=tooltips))\n",
    "\n",
    "### drawing a circle at each data point\n",
    "plot4c.circle(\"score\", \"gdp\", size=10, source=datasource)\n",
    "\n",
    "show(plot4c)"
   ]
  },
  {
   "cell_type": "markdown",
   "metadata": {},
   "source": [
    "## Color-Mapping & Legends"
   ]
  },
  {
   "cell_type": "markdown",
   "metadata": {},
   "source": [
    "you can add colors & legends to your plots to distinguish between categorical data!"
   ]
  },
  {
   "cell_type": "markdown",
   "metadata": {},
   "source": [
    "### Color-Mapping"
   ]
  },
  {
   "cell_type": "code",
   "execution_count": null,
   "metadata": {
    "ExecuteTime": {
     "end_time": "2020-07-29T00:16:09.936346Z",
     "start_time": "2020-07-29T00:16:09.781760Z"
    }
   },
   "outputs": [],
   "source": [
    "### create canvas\n",
    "plot4d = figure(title=\"World Happiness Index\", x_axis_label =\"Score\", y_axis_label =\"GDP per capita\",\n",
    "                plot_width=800, plot_height=800)\n",
    "\n",
    "### color each country by its respective continental region\n",
    "from bokeh.models import CategoricalColorMapper\n",
    "\n",
    "color_mapper = CategoricalColorMapper(factors=[\"Europe\", \"Australia and New Zealand\", \n",
    "                                               \"Americas\", \"Middle East and Africa\", \"Asia\"],\n",
    "                                      palette=['blue', 'yellow', 'red', \"green\", \"orange\"])\n",
    "\n",
    "### drawing a circle at each data point\n",
    "plot4d.circle(\"score\", \"gdp\", size=10,\n",
    "### incorporate the colormapper  \n",
    "    color = dict(field=\"continent\", transform=color_mapper),\n",
    "### add simple legend\n",
    "    legend_field=\"continent\",\n",
    "    source=datasource)\n",
    "\n",
    "show(plot4d)"
   ]
  },
  {
   "cell_type": "markdown",
   "metadata": {},
   "source": [
    "### Customize legend"
   ]
  },
  {
   "cell_type": "code",
   "execution_count": null,
   "metadata": {
    "ExecuteTime": {
     "end_time": "2020-07-29T00:16:10.098911Z",
     "start_time": "2020-07-29T00:16:09.938341Z"
    }
   },
   "outputs": [],
   "source": [
    "### create canvas\n",
    "plot4e = figure(title=\"World Happiness Index\", x_axis_label =\"Score\", y_axis_label =\"GDP per capita\",\n",
    "                plot_width=800, plot_height=800)\n",
    "\n",
    "### color each country by its respective continental region\n",
    "color_mapper = CategoricalColorMapper(factors=[\"Europe\", \"Australia and New Zealand\", \n",
    "                                               \"Americas\", \"Middle East and Africa\", \"Asia\"],\n",
    "                                      palette=['blue', 'yellow', 'red', \"green\", \"orange\"])\n",
    "\n",
    "### drawing a circle at each data point\n",
    "plot4e.circle(\"score\", \"gdp\", size=10,\n",
    "              color = dict(field=\"continent\", transform=color_mapper),\n",
    "              legend_field=\"continent\", source=datasource)\n",
    "\n",
    "\n",
    "### legend customization options\n",
    "plot4e.legend.location ='bottom_right'\n",
    "plot4e.legend.title = 'Country Region'\n",
    "plot4e.legend.title_text_font_style = \"bold\"\n",
    "plot4e.legend.title_text_font_size = \"16pt\"\n",
    "plot4e.legend.label_text_font = \"arial\"\n",
    "plot4e.legend.label_text_font_size = \"14pt\"\n",
    "\n",
    "plot4e.legend.border_line_width = 3\n",
    "plot4e.legend.border_line_color = \"black\"\n",
    "plot4e.legend.border_line_alpha = 0.3\n",
    "\n",
    "show(plot4e)"
   ]
  },
  {
   "cell_type": "markdown",
   "metadata": {},
   "source": [
    "### Interactive legend"
   ]
  },
  {
   "cell_type": "code",
   "execution_count": null,
   "metadata": {
    "ExecuteTime": {
     "end_time": "2020-07-29T00:16:11.090994Z",
     "start_time": "2020-07-29T00:16:10.101904Z"
    }
   },
   "outputs": [],
   "source": [
    "### create canvas\n",
    "plot4f = figure(title=\"World Happiness Index\", x_axis_label =\"Score\", y_axis_label =\"GDP per capita\",\n",
    "                plot_width=800, plot_height=800)\n",
    "\n",
    "### build filter in order to hide/show data by clicking on the legend\n",
    "from bokeh.models import CDSView, GroupFilter\n",
    "\n",
    "europe_filter = [GroupFilter(column_name='continent', group='Europe')]\n",
    "europe_view = CDSView(source=datasource,filters=europe_filter)\n",
    "\n",
    "australia_filter = [GroupFilter(column_name='continent', group='Australia and New Zealand')]\n",
    "australia_view = CDSView(source=datasource,filters=australia_filter)\n",
    "\n",
    "americas_filter = [GroupFilter(column_name='continent', group='Americas')]\n",
    "americas_view = CDSView(source=datasource,filters=americas_filter)\n",
    "\n",
    "africa_filter = [GroupFilter(column_name='continent', group='Middle East and Africa')]\n",
    "africa_view = CDSView(source=datasource, filters=africa_filter)\n",
    "\n",
    "asia_filter = [GroupFilter(column_name='continent', group='Asia')]\n",
    "asia_view = CDSView(source=datasource, filters=asia_filter)\n",
    "\n",
    "### draw each legend item separately on the canvas, so that we can hide/show data\n",
    "plot4f.circle(\"score\", \"gdp\", source=datasource, size=8,\n",
    "            color='seagreen', legend_label='Europe', view=europe_view)\n",
    "\n",
    "plot4f.circle(\"score\", \"gdp\", source=datasource, size=8,\n",
    "            color='yellowgreen', legend_label='Australia and New Zealand', view=australia_view)\n",
    "\n",
    "plot4f.circle(\"score\", \"gdp\", source=datasource, size=8,\n",
    "            color='lightsteelblue', legend_label='Americas', view=americas_view)\n",
    "\n",
    "plot4f.circle(\"score\", \"gdp\", source=datasource, size=8,\n",
    "            color='coral', legend_label='Middle East and Africa', view=africa_view)\n",
    "\n",
    "plot4f.circle(\"score\", \"gdp\", source=datasource, size=8,\n",
    "            color='maroon', legend_label='Asia', view=asia_view)\n",
    "\n",
    "\n",
    "\n",
    "### legend customization options\n",
    "plot4f.legend.location ='bottom_right'\n",
    "plot4f.legend.title = 'Click legend to hide/display data'\n",
    "plot4f.legend.title_text_font_style = \"bold\"\n",
    "plot4f.legend.title_text_font_size = \"12pt\"\n",
    "plot4f.legend.label_text_font = \"times\"\n",
    "plot4f.legend.label_text_font_size = \"12pt\"\n",
    "\n",
    "plot4f.legend.border_line_width = 2\n",
    "plot4f.legend.border_line_color = \"black\"\n",
    "plot4f.legend.border_line_alpha = 0.5\n",
    "\n",
    "### here we enable the option to hide/show data by clicking on the legend\n",
    "plot4f.legend.click_policy = 'hide'\n",
    "\n",
    "\n",
    "show(plot4f)"
   ]
  }
 ],
 "metadata": {
  "kernelspec": {
   "display_name": "Python [conda env:nf] *",
   "language": "python",
   "name": "conda-env-nf-py"
  },
  "language_info": {
   "codemirror_mode": {
    "name": "ipython",
    "version": 3
   },
   "file_extension": ".py",
   "mimetype": "text/x-python",
   "name": "python",
   "nbconvert_exporter": "python",
   "pygments_lexer": "ipython3",
   "version": "3.6.10"
  },
  "toc": {
   "base_numbering": 1,
   "nav_menu": {},
   "number_sections": true,
   "sideBar": true,
   "skip_h1_title": false,
   "title_cell": "Table of Contents",
   "title_sidebar": "Contents",
   "toc_cell": false,
   "toc_position": {},
   "toc_section_display": true,
   "toc_window_display": false
  }
 },
 "nbformat": 4,
 "nbformat_minor": 4
}
