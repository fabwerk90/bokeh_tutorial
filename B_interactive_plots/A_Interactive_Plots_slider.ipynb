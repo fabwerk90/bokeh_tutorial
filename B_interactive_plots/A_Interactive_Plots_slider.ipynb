{
 "cells": [
  {
   "cell_type": "markdown",
   "metadata": {},
   "source": [
    "# Interactive plot with a slider"
   ]
  },
  {
   "cell_type": "markdown",
   "metadata": {},
   "source": [
    "## Setup and data source"
   ]
  },
  {
   "cell_type": "markdown",
   "metadata": {},
   "source": [
    "Our data source are stats of the first two Pokémon Generations!"
   ]
  },
  {
   "cell_type": "code",
   "execution_count": null,
   "metadata": {
    "ExecuteTime": {
     "end_time": "2020-07-27T20:58:02.433840Z",
     "start_time": "2020-07-27T20:58:02.368017Z"
    }
   },
   "outputs": [],
   "source": [
    "### import libraries\n",
    "import numpy as np\n",
    "import pandas as pd\n",
    "from bokeh.models import ColumnDataSource\n",
    "\n",
    "### read in data and construct column data source\n",
    "df = pd.read_csv('data/pokemon_250.csv')\n",
    "\n",
    "datasource = ColumnDataSource(data={\n",
    "    \"name\" : df[\"Name\"],\n",
    "    \"main_type\" : df[\"Type 1\"],\n",
    "    \"overall\" : df[\"Total\"],\n",
    "    \"health\" : df[\"HP\"],\n",
    "    \"attack\" : df[\"Attack\"],\n",
    "    \"defense\" : df[\"Defense\"],\n",
    "    \"speed\" : df[\"Speed\"]\n",
    "})"
   ]
  },
  {
   "cell_type": "markdown",
   "metadata": {},
   "source": [
    "## Basic code for bokeh plot"
   ]
  },
  {
   "cell_type": "code",
   "execution_count": null,
   "metadata": {
    "ExecuteTime": {
     "end_time": "2020-07-27T20:58:02.433840Z",
     "start_time": "2020-07-27T20:58:02.368017Z"
    }
   },
   "outputs": [],
   "source": [
    "### import libraries\n",
    "from bokeh.plotting import figure\n",
    "from bokeh.models import HoverTool\n",
    "\n",
    "### create canvas\n",
    "plot = figure(title=\"Plot A - Pokemon HP Slider\", x_axis_label =\"Attack\", y_axis_label =\"Defense\",\n",
    "                plot_width=600, plot_height=600)\n",
    "\n",
    "### draw data points and add a tooltip\n",
    "plot.circle(\"attack\", \"defense\", size=10, source=datasource)\n",
    "\n",
    "tooltips = [(\"Name\",\"@name\"),(\"Health\",\"@health\")]\n",
    "plot.add_tools(HoverTool(tooltips=tooltips))"
   ]
  },
  {
   "cell_type": "markdown",
   "metadata": {},
   "source": [
    "## Build bokeh app"
   ]
  },
  {
   "cell_type": "markdown",
   "metadata": {},
   "source": [
    "We want to add a slider, with which the user can define lower and upper boundaries for Pokémon health stats"
   ]
  },
  {
   "cell_type": "code",
   "execution_count": 38,
   "metadata": {
    "ExecuteTime": {
     "end_time": "2020-07-27T20:58:02.433840Z",
     "start_time": "2020-07-27T20:58:02.368017Z"
    }
   },
   "outputs": [],
   "source": [
    "### import libraries\n",
    "from bokeh.io import curdoc\n",
    "from bokeh.layouts import row, column\n",
    "from bokeh.models.widgets import RangeSlider\n",
    "\n",
    "### add a slider widget, to define a threshold for different health values\n",
    "### initially values are 10(min) and 255(max)\n",
    "hp_slider = RangeSlider(start = 10, end = 255, step = 1, value = (10,255), title = 'Pokemon Health')\n",
    "\n",
    "\n",
    "### define update function, which changes the data source\n",
    "### \"attr, old, new\" is always required in the update function!\n",
    "def update_hp(attr, old, new):\n",
    "    \n",
    "    ### define lower and upper boundary\n",
    "    lower_boundary_hp = hp_slider.value[0]\n",
    "    upper_boundary_hp = hp_slider.value[1]\n",
    "    \n",
    "    ### source data from a new dataframe, in which we only have Pokémon with health within the defined boundaries\n",
    "    new_df = df.loc[(df[\"HP\"] > lower_boundary_hp) & (df[\"HP\"] < upper_boundary_hp)]\n",
    "\n",
    "    datasource.data = dict(\n",
    "        name = new_df[\"Name\"],\n",
    "        main_type = new_df[\"Type 1\"],\n",
    "        overall = new_df[\"Total\"],\n",
    "        health = new_df[\"HP\"],\n",
    "        attack = new_df[\"Attack\"],\n",
    "        defense = new_df[\"Defense\"],\n",
    "        speed = new_df[\"Speed\"]\n",
    "    )\n",
    "\n",
    "### when user gives input to slider, execute updating function\n",
    "hp_slider.on_change('value', update_hp)\n",
    "\n",
    "### add widget and plot to layout\n",
    "layout = row(column(hp_slider), plot)\n",
    "curdoc().add_root(layout)\n",
    "\n",
    "### in order to show app in your browser, use command line and type \"bokeh serve your_app_name.ipynb --show\""
   ]
  }
 ],
 "metadata": {
  "kernelspec": {
   "display_name": "Python [conda env:nf] *",
   "language": "python",
   "name": "conda-env-nf-py"
  },
  "language_info": {
   "codemirror_mode": {
    "name": "ipython",
    "version": 3
   },
   "file_extension": ".py",
   "mimetype": "text/x-python",
   "name": "python",
   "nbconvert_exporter": "python",
   "pygments_lexer": "ipython3",
   "version": "3.6.10"
  },
  "toc": {
   "base_numbering": 1,
   "nav_menu": {},
   "number_sections": true,
   "sideBar": true,
   "skip_h1_title": false,
   "title_cell": "Table of Contents",
   "title_sidebar": "Contents",
   "toc_cell": false,
   "toc_position": {},
   "toc_section_display": true,
   "toc_window_display": false
  }
 },
 "nbformat": 4,
 "nbformat_minor": 4
}
