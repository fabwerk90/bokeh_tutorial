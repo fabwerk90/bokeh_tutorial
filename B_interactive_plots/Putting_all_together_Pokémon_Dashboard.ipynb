{
 "cells": [
  {
   "cell_type": "markdown",
   "metadata": {},
   "source": [
    "# Interactive plot with a slider"
   ]
  },
  {
   "cell_type": "markdown",
   "metadata": {},
   "source": [
    "## Setup and data source"
   ]
  },
  {
   "cell_type": "markdown",
   "metadata": {},
   "source": [
    "Our data source are stats of the first two Pokémon Generations!"
   ]
  },
  {
   "cell_type": "markdown",
   "metadata": {},
   "source": [
    "In addition to previous examples, we want to add small images of each Pokémon as Tooltips. The images are saved in a cloud in order to access it. The corresponding ULRs are a part of the dataframe"
   ]
  },
  {
   "cell_type": "code",
   "execution_count": null,
   "metadata": {
    "ExecuteTime": {
     "end_time": "2020-07-29T15:24:42.903440Z",
     "start_time": "2020-07-29T15:24:42.892442Z"
    }
   },
   "outputs": [],
   "source": [
    "### import libraries\n",
    "import numpy as np\n",
    "import pandas as pd\n",
    "from bokeh.models import ColumnDataSource\n",
    "\n",
    "### read in data and construct column data source\n",
    "df = pd.read_csv('data/pokemon_250_with_images.csv')\n",
    "\n",
    "datasource = ColumnDataSource(data={\n",
    "    \"name\" : df[\"Name\"],\n",
    "    \"main_type\" : df[\"Type 1\"],\n",
    "    \"overall\" : df[\"Total\"],\n",
    "    \"health\" : df[\"HP\"],\n",
    "    \"attack\" : df[\"Attack\"],\n",
    "    \"defense\" : df[\"Defense\"],\n",
    "    \"speed\" : df[\"Speed\"],\n",
    "    \"imgs\" : df[\"image_urls\"]\n",
    "})"
   ]
  },
  {
   "cell_type": "markdown",
   "metadata": {},
   "source": [
    "## Basic code for bokeh plot"
   ]
  },
  {
   "cell_type": "markdown",
   "metadata": {},
   "source": [
    "In order to access the image URLs we need to write a little html/CSS code for our tooltips\n",
    "##### bokeh tutorial for this (https://docs.bokeh.org/en/latest/docs/user_guide/tools.html#custom-tooltip)"
   ]
  },
  {
   "cell_type": "code",
   "execution_count": null,
   "metadata": {
    "ExecuteTime": {
     "end_time": "2020-07-29T15:24:44.846278Z",
     "start_time": "2020-07-29T15:24:44.835280Z"
    }
   },
   "outputs": [],
   "source": [
    "### import libraries\n",
    "from bokeh.plotting import figure\n",
    "from bokeh.models import HoverTool\n",
    "\n",
    "### html code to access Pokémon images\n",
    "TOOLTIPS = \"\"\"\n",
    "    <div>\n",
    "        <div>\n",
    "            <img\n",
    "                src=\"@imgs\" height=\"100\" alt=\"@imgs\" width=\"100\"\n",
    "                border=\"2\"\n",
    "            ></img>\n",
    "        </div>\n",
    "        <div>\n",
    "                <span style=\"font-size: 18px; font-weight: bold;\">@name</span>\n",
    "        </div>\n",
    "        <div>\n",
    "                <span style=\"font-size: 14px;\">Overall Strength - @overall</span>\n",
    "        </div>\n",
    "        <div>\n",
    "                <span style=\"font-size: 14px;\">Overall Health Points - @health</span>\n",
    "        </div>\n",
    "\"\"\"\n",
    "\n",
    "### define tools and build plot\n",
    "toolbox = [\"pan,wheel_zoom,box_zoom,reset,save,crosshair\"]\n",
    "\n",
    "plot = figure(title=\"Pokémon dataset\", x_axis_label =\"Attack\", y_axis_label =\"Defense\",\n",
    "              plot_width=800, plot_height=800, tooltips=TOOLTIPS, tools=toolbox, toolbar_location=\"below\")\n",
    "\n",
    "plot.circle(\"attack\", \"defense\", size=10, source=datasource)"
   ]
  },
  {
   "cell_type": "markdown",
   "metadata": {},
   "source": [
    "## Build bokeh app"
   ]
  },
  {
   "cell_type": "markdown",
   "metadata": {},
   "source": [
    "Now we want to add all previous examples into one dashboard"
   ]
  },
  {
   "cell_type": "code",
   "execution_count": null,
   "metadata": {
    "ExecuteTime": {
     "end_time": "2020-07-27T22:45:28.658475Z",
     "start_time": "2020-07-27T22:45:28.617584Z"
    }
   },
   "outputs": [],
   "source": [
    "### import libraries\n",
    "from bokeh.io import curdoc\n",
    "from bokeh.layouts import row, column\n",
    "from bokeh.models import TextInput\n",
    "from bokeh.models.widgets import RangeSlider, RadioButtonGroup, CheckboxGroup\n",
    "\n",
    "\n",
    "### build all widgets (from previous examples), we want to incorporate\n",
    "hp_slider = RangeSlider(start = 10, end = 255, step = 1, value = (10,255), title = 'Pokemon Health')\n",
    "\n",
    "overall_slider = RangeSlider(start = 180, end = 680, step = 1, value = (180,680), title = 'Pokemon Overall Strength')\n",
    "\n",
    "main_types = df[\"Type 1\"].unique().tolist()\n",
    "types_checkbox = CheckboxGroup(labels=main_types, active = [0,1,2,3,4,5,6,7,8,9,10,11,12,13,14,15,16])\n",
    "\n",
    "pokemon_textbox = TextInput(title=\"Name or substring of Pokemon\")\n",
    "\n",
    "datasource_choice = RadioButtonGroup(labels=[\"Generation 1\", \"Generation 2\", \"Generation 1 & 2\"], active=2)\n",
    "\n",
    "\n",
    "##### for more structure build two functions\n",
    "### one which select the new data source based on user input (\"select_df()\")\n",
    "### and one which updates the plot (\"update_plot()\")\n",
    "\n",
    "### build new dataframe, based on user input and return this dataframe\n",
    "def select_df():\n",
    "    \n",
    "    lower_boundary_hp = hp_slider.value[0]\n",
    "    upper_boundary_hp = hp_slider.value[1]\n",
    "    \n",
    "    lower_boundary_overall = overall_slider.value[0]\n",
    "    upper_boundary_overall = overall_slider.value[1]\n",
    "    \n",
    "    selected_types = [types_checkbox.labels[i] for i in types_checkbox.active]\n",
    "    \n",
    "    textbox_input = pokemon_textbox.value.strip()\n",
    "    \n",
    "    datasource_selection = datasource_choice.active\n",
    "    \n",
    "    if datasource_selection == 0:\n",
    "           \n",
    "        new_df = df[\n",
    "            (df[\"HP\"] >= lower_boundary_hp) & \n",
    "            (df[\"HP\"] <= upper_boundary_hp) &\n",
    "            (df[\"Total\"] >= lower_boundary_overall) &\n",
    "            (df[\"Total\"] <= upper_boundary_overall) &\n",
    "            (df[\"Type 1\"].isin(selected_types)) &\n",
    "            (df[\"Name\"].str.contains(textbox_input)) &\n",
    "            (df[\"Generation\"]==1)\n",
    "        ]\n",
    "    \n",
    "    elif datasource_selection == 1:\n",
    "        \n",
    "        new_df = df[\n",
    "            (df[\"HP\"] >= lower_boundary_hp) & \n",
    "            (df[\"HP\"] <= upper_boundary_hp) &\n",
    "            (df[\"Total\"] >= lower_boundary_overall) &\n",
    "            (df[\"Total\"] <= upper_boundary_overall) &\n",
    "            (df[\"Type 1\"].isin(selected_types)) &\n",
    "            (df[\"Name\"].str.contains(textbox_input)) &\n",
    "            (df[\"Generation\"]==2)\n",
    "        ]\n",
    "    \n",
    "    else:\n",
    "    \n",
    "        new_df = df[\n",
    "            (df[\"HP\"] >= lower_boundary_hp) & \n",
    "            (df[\"HP\"] <= upper_boundary_hp) &\n",
    "            (df[\"Total\"] >= lower_boundary_overall) &\n",
    "            (df[\"Total\"] <= upper_boundary_overall) &\n",
    "            (df[\"Type 1\"].isin(selected_types)) &\n",
    "            (df[\"Name\"].str.contains(textbox_input))\n",
    "        ]\n",
    "        \n",
    "    \n",
    "    return new_df\n",
    "\n",
    "### execute function for new dataframe and then update the plot with it\n",
    "def update_plot():\n",
    "    \n",
    "    df = select_df()\n",
    "    \n",
    "    datasource.data = dict(\n",
    "        name = df[\"Name\"],\n",
    "        main_type = df[\"Type 1\"],\n",
    "        overall = df[\"Total\"],\n",
    "        health = df[\"HP\"],\n",
    "        attack = df[\"Attack\"],\n",
    "        defense = df[\"Defense\"],\n",
    "        speed = df[\"Speed\"],\n",
    "        imgs = df[\"image_urls\"]\n",
    "    )\n",
    "\n",
    "### when user gives input to widgets, simultaneously execute updating function for all widgets\n",
    "### we have to do this separately for widgets, which rely on value input and which rely on activation input\n",
    "value_changes = [hp_slider, overall_slider, pokemon_textbox]\n",
    "for change in value_changes:\n",
    "    change.on_change('value', lambda attr, old, new: update_plot())\n",
    "\n",
    "active_changes = [types_checkbox, datasource_choice]\n",
    "for change in active_changes:\n",
    "    change.on_change('active', lambda attr, old, new: update_plot())\n",
    "\n",
    "### add all widgets and the plot to layout\n",
    "layout = row(column(datasource_choice, hp_slider, overall_slider, types_checkbox, pokemon_textbox), plot)\n",
    "curdoc().add_root(layout)\n",
    "\n",
    "### in order to show app in your browser, use command line and type \"bokeh serve your_app_name.ipynb --show\""
   ]
  }
 ],
 "metadata": {
  "kernelspec": {
   "display_name": "Python [conda env:nf] *",
   "language": "python",
   "name": "conda-env-nf-py"
  },
  "language_info": {
   "codemirror_mode": {
    "name": "ipython",
    "version": 3
   },
   "file_extension": ".py",
   "mimetype": "text/x-python",
   "name": "python",
   "nbconvert_exporter": "python",
   "pygments_lexer": "ipython3",
   "version": "3.6.10"
  },
  "toc": {
   "base_numbering": 1,
   "nav_menu": {},
   "number_sections": true,
   "sideBar": true,
   "skip_h1_title": false,
   "title_cell": "Table of Contents",
   "title_sidebar": "Contents",
   "toc_cell": false,
   "toc_position": {},
   "toc_section_display": true,
   "toc_window_display": false
  }
 },
 "nbformat": 4,
 "nbformat_minor": 4
}
