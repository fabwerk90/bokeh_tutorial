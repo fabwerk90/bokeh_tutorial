{
 "cells": [
  {
   "cell_type": "markdown",
   "metadata": {},
   "source": [
    "# Interactive plot with data source selection"
   ]
  },
  {
   "cell_type": "markdown",
   "metadata": {},
   "source": [
    "## Setup and data source"
   ]
  },
  {
   "cell_type": "markdown",
   "metadata": {},
   "source": [
    "Our data source are stats of the first two Pokémon Generations!"
   ]
  },
  {
   "cell_type": "code",
   "execution_count": 2,
   "metadata": {
    "ExecuteTime": {
     "end_time": "2020-07-29T15:09:25.541958Z",
     "start_time": "2020-07-29T15:09:25.527996Z"
    }
   },
   "outputs": [],
   "source": [
    "### import libraries\n",
    "import numpy as np\n",
    "import pandas as pd\n",
    "from bokeh.models import ColumnDataSource\n",
    "\n",
    "### read in data and construct column data source\n",
    "df = pd.read_csv('data/pokemon_250.csv')\n",
    "\n",
    "datasource = ColumnDataSource(data={\n",
    "    \"name\" : df[\"Name\"],\n",
    "    \"main_type\" : df[\"Type 1\"],\n",
    "    \"overall\" : df[\"Total\"],\n",
    "    \"health\" : df[\"HP\"],\n",
    "    \"attack\" : df[\"Attack\"],\n",
    "    \"defense\" : df[\"Defense\"],\n",
    "    \"speed\" : df[\"Speed\"]\n",
    "})"
   ]
  },
  {
   "cell_type": "markdown",
   "metadata": {},
   "source": [
    "## Basic code for bokeh plot"
   ]
  },
  {
   "cell_type": "code",
   "execution_count": 3,
   "metadata": {
    "ExecuteTime": {
     "end_time": "2020-07-29T15:09:26.359491Z",
     "start_time": "2020-07-29T15:09:26.182867Z"
    }
   },
   "outputs": [],
   "source": [
    "### import libraries\n",
    "from bokeh.plotting import figure\n",
    "from bokeh.models import HoverTool\n",
    "\n",
    "### create canvas\n",
    "plot = figure(title=\"Plot A - Pokemon Generation Selection\", x_axis_label =\"Attack\", y_axis_label =\"Defense\",\n",
    "              plot_width=600, plot_height=600)\n",
    "\n",
    "### draw data points and add a tooltip\n",
    "plot.circle(\"attack\", \"defense\", size=10, source=datasource)\n",
    "\n",
    "tooltips = [(\"Name\",\"@name\")]\n",
    "plot.add_tools(HoverTool(tooltips=tooltips))"
   ]
  },
  {
   "cell_type": "markdown",
   "metadata": {},
   "source": [
    "## Build bokeh app"
   ]
  },
  {
   "cell_type": "markdown",
   "metadata": {},
   "source": [
    "We want to add a button, with which the user can switch between viewing data for the first or second generation of Pokémon"
   ]
  },
  {
   "cell_type": "code",
   "execution_count": 4,
   "metadata": {
    "ExecuteTime": {
     "end_time": "2020-07-29T15:09:28.383916Z",
     "start_time": "2020-07-29T15:09:28.370952Z"
    }
   },
   "outputs": [],
   "source": [
    "### import libraries\n",
    "from bokeh.io import curdoc\n",
    "from bokeh.layouts import row, column\n",
    "from bokeh.models.widgets import RadioButtonGroup\n",
    "\n",
    "### add a button widget, to switch between the two generations\n",
    "### initially button for generation 1 will be active  \n",
    "datasource_choice = RadioButtonGroup(labels=[\"Generation 1\", \"Generation 2\",], active=0)\n",
    "\n",
    "### define update function, which changes the data source\n",
    "### \"attr, old, new\" is always required in the update function!\n",
    "def update_plot(attr, old, new):\n",
    "    \n",
    "    ### data source depends on active button choice, done by user\n",
    "    datasource_selection = datasource_choice.active\n",
    "    \n",
    "    ### if generation 1 is selected...\n",
    "    if datasource_selection == 0:\n",
    "        \n",
    "        ### ... then source data from a new dataframe, in which we only have Pokémon from generation 1\n",
    "        new_df = df.loc[df[\"Generation\"]==1]\n",
    "    \n",
    "        datasource.data = dict(\n",
    "            name = new_df[\"Name\"],\n",
    "            main_type = new_df[\"Type 1\"],\n",
    "            overall = new_df[\"Total\"],\n",
    "            health = new_df[\"HP\"],\n",
    "            attack = new_df[\"Attack\"],\n",
    "            defense = new_df[\"Defense\"],\n",
    "            speed = new_df[\"Speed\"]\n",
    "        )\n",
    "        \n",
    "    else:\n",
    "        \n",
    "        ### ... else source data from a new dataframe, in which we only have Pokémon from generation 2\n",
    "        new_df = df.loc[df[\"Generation\"]==2]\n",
    "    \n",
    "        datasource.data = dict(\n",
    "            name = new_df[\"Name\"],\n",
    "            main_type = new_df[\"Type 1\"],\n",
    "            overall = new_df[\"Total\"],\n",
    "            health = new_df[\"HP\"],\n",
    "            attack = new_df[\"Attack\"],\n",
    "            defense = new_df[\"Defense\"],\n",
    "            speed = new_df[\"Speed\"]\n",
    "        )\n",
    "    \n",
    "### when user gives input to button, execute updating function\n",
    "datasource_choice.on_change('active', update_plot)\n",
    "\n",
    "### add widget and plot to layout\n",
    "layout = row(column(datasource_choice), plot)\n",
    "curdoc().add_root(layout)\n",
    "\n",
    "### in order to show app in your browser, use command line and type \"bokeh serve your_app_name.ipynb --show\""
   ]
  },
  {
   "cell_type": "code",
   "execution_count": null,
   "metadata": {},
   "outputs": [],
   "source": []
  }
 ],
 "metadata": {
  "kernelspec": {
   "display_name": "Python [conda env:nf] *",
   "language": "python",
   "name": "conda-env-nf-py"
  },
  "language_info": {
   "codemirror_mode": {
    "name": "ipython",
    "version": 3
   },
   "file_extension": ".py",
   "mimetype": "text/x-python",
   "name": "python",
   "nbconvert_exporter": "python",
   "pygments_lexer": "ipython3",
   "version": "3.6.10"
  },
  "toc": {
   "base_numbering": 1,
   "nav_menu": {},
   "number_sections": true,
   "sideBar": true,
   "skip_h1_title": false,
   "title_cell": "Table of Contents",
   "title_sidebar": "Contents",
   "toc_cell": false,
   "toc_position": {},
   "toc_section_display": true,
   "toc_window_display": false
  }
 },
 "nbformat": 4,
 "nbformat_minor": 4
}
